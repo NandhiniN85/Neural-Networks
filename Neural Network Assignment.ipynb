{
 "cells": [
  {
   "cell_type": "markdown",
   "metadata": {},
   "source": [
    "Import the necessary libraries"
   ]
  },
  {
   "cell_type": "code",
   "execution_count": 17,
   "metadata": {},
   "outputs": [],
   "source": [
    "import pandas as pd\n",
    "import numpy as np\n",
    "import h5py\n",
    "import matplotlib.pyplot as plt\n",
    "import copy as copy\n",
    "%matplotlib inline\n",
    "import seaborn as sns\n",
    "from sklearn.metrics import confusion_matrix, f1_score\n",
    "\n",
    "from keras.models import Sequential\n",
    "from keras.layers import Activation, Dense\n",
    "from keras import optimizers\n",
    "from keras.layers import Flatten\n",
    "from keras.utils.np_utils import to_categorical\n",
    "from keras.layers import BatchNormalization, Dropout"
   ]
  },
  {
   "cell_type": "code",
   "execution_count": 74,
   "metadata": {},
   "outputs": [],
   "source": [
    "#open the input file as read only\n",
    "h5f = h5py.File('SVHN_single_grey1.h5', 'r')"
   ]
  },
  {
   "cell_type": "code",
   "execution_count": 75,
   "metadata": {},
   "outputs": [],
   "source": [
    "#load the training, test and validation set\n",
    "X_train = h5f['X_train'][:]\n",
    "y_train = h5f['y_train'][:]\n",
    "X_test = h5f['X_test'][:]\n",
    "y_test = h5f['y_test'][:]\n",
    "X_val = h5f['X_val'][:]\n",
    "y_val = h5f['y_val'][:]"
   ]
  },
  {
   "cell_type": "code",
   "execution_count": 76,
   "metadata": {},
   "outputs": [],
   "source": [
    "#close this file\n",
    "h5f.close()"
   ]
  },
  {
   "cell_type": "code",
   "execution_count": 77,
   "metadata": {},
   "outputs": [
    {
     "name": "stdout",
     "output_type": "stream",
     "text": [
      "The shape of input features - training dataset : (42000, 32, 32)\n",
      "The shape of output target - training dataset: (42000,)\n",
      "\n",
      "The shape of input features - test dataset: (18000, 32, 32)\n",
      "The shape of output target - test dataset: (18000,)\n",
      "\n",
      "The shape of input features - validation dataset: (60000, 32, 32)\n",
      "The shape of output target - validation dataset: (60000,)\n"
     ]
    }
   ],
   "source": [
    "print('The shape of input features - training dataset :', X_train.shape)\n",
    "print('The shape of output target - training dataset:', y_train.shape)\n",
    "print('\\nThe shape of input features - test dataset:', X_test.shape)\n",
    "print('The shape of output target - test dataset:', y_test.shape)\n",
    "print('\\nThe shape of input features - validation dataset:', X_val.shape)\n",
    "print('The shape of output target - validation dataset:', y_val.shape)"
   ]
  },
  {
   "cell_type": "code",
   "execution_count": 78,
   "metadata": {},
   "outputs": [
    {
     "name": "stdout",
     "output_type": "stream",
     "text": [
      "The target values of first 5 images in the training dataset: [2 6 7 4 4]\n"
     ]
    },
    {
     "data": {
      "text/plain": [
       "<Figure size 1080x720 with 0 Axes>"
      ]
     },
     "execution_count": 78,
     "metadata": {},
     "output_type": "execute_result"
    },
    {
     "data": {
      "text/plain": [
       "<matplotlib.axes._subplots.AxesSubplot at 0x151acaf72c8>"
      ]
     },
     "execution_count": 78,
     "metadata": {},
     "output_type": "execute_result"
    },
    {
     "data": {
      "text/plain": [
       "<matplotlib.image.AxesImage at 0x151d7674548>"
      ]
     },
     "execution_count": 78,
     "metadata": {},
     "output_type": "execute_result"
    },
    {
     "data": {
      "text/plain": [
       "<matplotlib.axes._subplots.AxesSubplot at 0x151abd7ef88>"
      ]
     },
     "execution_count": 78,
     "metadata": {},
     "output_type": "execute_result"
    },
    {
     "data": {
      "text/plain": [
       "<matplotlib.image.AxesImage at 0x151abdb1dc8>"
      ]
     },
     "execution_count": 78,
     "metadata": {},
     "output_type": "execute_result"
    },
    {
     "data": {
      "text/plain": [
       "<matplotlib.axes._subplots.AxesSubplot at 0x151abda8d08>"
      ]
     },
     "execution_count": 78,
     "metadata": {},
     "output_type": "execute_result"
    },
    {
     "data": {
      "text/plain": [
       "<matplotlib.image.AxesImage at 0x151abdeaa88>"
      ]
     },
     "execution_count": 78,
     "metadata": {},
     "output_type": "execute_result"
    },
    {
     "data": {
      "text/plain": [
       "<matplotlib.axes._subplots.AxesSubplot at 0x151abdeaa48>"
      ]
     },
     "execution_count": 78,
     "metadata": {},
     "output_type": "execute_result"
    },
    {
     "data": {
      "text/plain": [
       "<matplotlib.image.AxesImage at 0x151abe20b48>"
      ]
     },
     "execution_count": 78,
     "metadata": {},
     "output_type": "execute_result"
    },
    {
     "data": {
      "text/plain": [
       "<matplotlib.axes._subplots.AxesSubplot at 0x151abe2c2c8>"
      ]
     },
     "execution_count": 78,
     "metadata": {},
     "output_type": "execute_result"
    },
    {
     "data": {
      "text/plain": [
       "<matplotlib.image.AxesImage at 0x151abe56cc8>"
      ]
     },
     "execution_count": 78,
     "metadata": {},
     "output_type": "execute_result"
    },
    {
     "data": {
      "image/png": "[encoded data removed]",
      "text/plain": [
       "<Figure size 1080x720 with 5 Axes>"
      ]
     },
     "metadata": {
      "needs_background": "light"
     },
     "output_type": "display_data"
    }
   ],
   "source": [
    "#visulaize first 5 images from the training dataset\n",
    "\n",
    "print('The target values of first 5 images in the training dataset:', y_train[0:5] )\n",
    "\n",
    "plt.figure(figsize=(15,10))\n",
    "for i in range(5):\n",
    "    plt.subplot(1,5,i+1)\n",
    "    plt.imshow(X_train[i])"
   ]
  },
  {
   "cell_type": "code",
   "execution_count": 79,
   "metadata": {},
   "outputs": [
    {
     "name": "stdout",
     "output_type": "stream",
     "text": [
      "Unique values of target output: [0 1 2 3 4 5 6 7 8 9]\n",
      "Unique count of target output: 10\n"
     ]
    }
   ],
   "source": [
    "#get the unique number of target output in the training dataset\n",
    "print('Unique values of target output:', np.unique(y_train))\n",
    "print('Unique count of target output:', len(np.unique(y_train)))"
   ]
  },
  {
   "cell_type": "code",
   "execution_count": 80,
   "metadata": {},
   "outputs": [
    {
     "name": "stdout",
     "output_type": "stream",
     "text": [
      "The target values of first 5 images in the testing dataset: [1 7 2 9 0]\n"
     ]
    },
    {
     "data": {
      "text/plain": [
       "<Figure size 1080x720 with 0 Axes>"
      ]
     },
     "execution_count": 80,
     "metadata": {},
     "output_type": "execute_result"
    },
    {
     "data": {
      "text/plain": [
       "<matplotlib.axes._subplots.AxesSubplot at 0x151aeb78548>"
      ]
     },
     "execution_count": 80,
     "metadata": {},
     "output_type": "execute_result"
    },
    {
     "data": {
      "text/plain": [
       "<matplotlib.image.AxesImage at 0x151aebaaac8>"
      ]
     },
     "execution_count": 80,
     "metadata": {},
     "output_type": "execute_result"
    },
    {
     "data": {
      "text/plain": [
       "<matplotlib.axes._subplots.AxesSubplot at 0x151aebaaa88>"
      ]
     },
     "execution_count": 80,
     "metadata": {},
     "output_type": "execute_result"
    },
    {
     "data": {
      "text/plain": [
       "<matplotlib.image.AxesImage at 0x151aebe14c8>"
      ]
     },
     "execution_count": 80,
     "metadata": {},
     "output_type": "execute_result"
    },
    {
     "data": {
      "text/plain": [
       "<matplotlib.axes._subplots.AxesSubplot at 0x151aebe1bc8>"
      ]
     },
     "execution_count": 80,
     "metadata": {},
     "output_type": "execute_result"
    },
    {
     "data": {
      "text/plain": [
       "<matplotlib.image.AxesImage at 0x151aec11f08>"
      ]
     },
     "execution_count": 80,
     "metadata": {},
     "output_type": "execute_result"
    },
    {
     "data": {
      "text/plain": [
       "<matplotlib.axes._subplots.AxesSubplot at 0x151aec11ec8>"
      ]
     },
     "execution_count": 80,
     "metadata": {},
     "output_type": "execute_result"
    },
    {
     "data": {
      "text/plain": [
       "<matplotlib.image.AxesImage at 0x151aec52848>"
      ]
     },
     "execution_count": 80,
     "metadata": {},
     "output_type": "execute_result"
    },
    {
     "data": {
      "text/plain": [
       "<matplotlib.axes._subplots.AxesSubplot at 0x151aec52c88>"
      ]
     },
     "execution_count": 80,
     "metadata": {},
     "output_type": "execute_result"
    },
    {
     "data": {
      "text/plain": [
       "<matplotlib.image.AxesImage at 0x151aec90848>"
      ]
     },
     "execution_count": 80,
     "metadata": {},
     "output_type": "execute_result"
    },
    {
     "data": {
      "image/png": "[encoded data removed]",
      "text/plain": [
       "<Figure size 1080x720 with 5 Axes>"
      ]
     },
     "metadata": {
      "needs_background": "light"
     },
     "output_type": "display_data"
    }
   ],
   "source": [
    "#visulaize first 5 images from the testing dataset\n",
    "\n",
    "print('The target values of first 5 images in the testing dataset:', y_test[0:5] )\n",
    "\n",
    "plt.figure(figsize=(15,10))\n",
    "for i in range(5):\n",
    "    plt.subplot(1,5,i+1)\n",
    "    plt.imshow(X_test[i])"
   ]
  },
  {
   "cell_type": "code",
   "execution_count": 81,
   "metadata": {},
   "outputs": [
    {
     "name": "stdout",
     "output_type": "stream",
     "text": [
      "The target values of first 5 images in the validation dataset: [0 0 0 0 0]\n"
     ]
    },
    {
     "data": {
      "text/plain": [
       "<Figure size 1080x720 with 0 Axes>"
      ]
     },
     "execution_count": 81,
     "metadata": {},
     "output_type": "execute_result"
    },
    {
     "data": {
      "text/plain": [
       "<matplotlib.axes._subplots.AxesSubplot at 0x151aecca788>"
      ]
     },
     "execution_count": 81,
     "metadata": {},
     "output_type": "execute_result"
    },
    {
     "data": {
      "text/plain": [
       "<matplotlib.image.AxesImage at 0x151936007c8>"
      ]
     },
     "execution_count": 81,
     "metadata": {},
     "output_type": "execute_result"
    },
    {
     "data": {
      "text/plain": [
       "<matplotlib.axes._subplots.AxesSubplot at 0x15193603bc8>"
      ]
     },
     "execution_count": 81,
     "metadata": {},
     "output_type": "execute_result"
    },
    {
     "data": {
      "text/plain": [
       "<matplotlib.image.AxesImage at 0x1519363c648>"
      ]
     },
     "execution_count": 81,
     "metadata": {},
     "output_type": "execute_result"
    },
    {
     "data": {
      "text/plain": [
       "<matplotlib.axes._subplots.AxesSubplot at 0x1519363c0c8>"
      ]
     },
     "execution_count": 81,
     "metadata": {},
     "output_type": "execute_result"
    },
    {
     "data": {
      "text/plain": [
       "<matplotlib.image.AxesImage at 0x15193673bc8>"
      ]
     },
     "execution_count": 81,
     "metadata": {},
     "output_type": "execute_result"
    },
    {
     "data": {
      "text/plain": [
       "<matplotlib.axes._subplots.AxesSubplot at 0x151936795c8>"
      ]
     },
     "execution_count": 81,
     "metadata": {},
     "output_type": "execute_result"
    },
    {
     "data": {
      "text/plain": [
       "<matplotlib.image.AxesImage at 0x151936aeb88>"
      ]
     },
     "execution_count": 81,
     "metadata": {},
     "output_type": "execute_result"
    },
    {
     "data": {
      "text/plain": [
       "<matplotlib.axes._subplots.AxesSubplot at 0x151936b2148>"
      ]
     },
     "execution_count": 81,
     "metadata": {},
     "output_type": "execute_result"
    },
    {
     "data": {
      "text/plain": [
       "<matplotlib.image.AxesImage at 0x151936e8b08>"
      ]
     },
     "execution_count": 81,
     "metadata": {},
     "output_type": "execute_result"
    },
    {
     "data": {
      "image/png": "[encoded data removed]",
      "text/plain": [
       "<Figure size 1080x720 with 5 Axes>"
      ]
     },
     "metadata": {
      "needs_background": "light"
     },
     "output_type": "display_data"
    }
   ],
   "source": [
    "#visulaize first 5 images from the validation dataset\n",
    "\n",
    "print('The target values of first 5 images in the validation dataset:', y_val[0:5] )\n",
    "\n",
    "plt.figure(figsize=(15,10))\n",
    "for i in range(5):\n",
    "    plt.subplot(1,5,i+1)\n",
    "    plt.imshow(X_val[i])"
   ]
  },
  {
   "cell_type": "code",
   "execution_count": 82,
   "metadata": {},
   "outputs": [
    {
     "name": "stdout",
     "output_type": "stream",
     "text": [
      "The shape of training input features after reshape: (42000, 1024)\n",
      "The shape of testing input features after reshape: (18000, 1024)\n",
      "The shape of validation input features after reshape: (60000, 1024)\n"
     ]
    }
   ],
   "source": [
    "#Flatten train, test and validation datasets\n",
    "X_train_flat = X_train.reshape(X_train.shape[0], -1)\n",
    "print('The shape of training input features after reshape:', X_train_flat.shape)\n",
    "\n",
    "X_test_flat = X_test.reshape(X_test.shape[0], -1)\n",
    "print('The shape of testing input features after reshape:', X_test_flat.shape)\n",
    "\n",
    "X_val_flat = X_val.reshape(X_val.shape[0], -1)\n",
    "print('The shape of validation input features after reshape:', X_val_flat.shape)"
   ]
  },
  {
   "cell_type": "markdown",
   "metadata": {},
   "source": [
    "#### Check the statistics of each category"
   ]
  },
  {
   "cell_type": "code",
   "execution_count": 83,
   "metadata": {},
   "outputs": [
    {
     "data": {
      "text/plain": [
       "<Figure size 1008x360 with 0 Axes>"
      ]
     },
     "execution_count": 83,
     "metadata": {},
     "output_type": "execute_result"
    },
    {
     "data": {
      "text/plain": [
       "<matplotlib.axes._subplots.AxesSubplot at 0x151937972c8>"
      ]
     },
     "execution_count": 83,
     "metadata": {},
     "output_type": "execute_result"
    },
    {
     "data": {
      "text/plain": [
       "<matplotlib.axes._subplots.AxesSubplot at 0x151937972c8>"
      ]
     },
     "execution_count": 83,
     "metadata": {},
     "output_type": "execute_result"
    },
    {
     "data": {
      "text/plain": [
       "Text(0.5, 0, 'Train_Count')"
      ]
     },
     "execution_count": 83,
     "metadata": {},
     "output_type": "execute_result"
    },
    {
     "data": {
      "text/plain": [
       "<matplotlib.axes._subplots.AxesSubplot at 0x15193800848>"
      ]
     },
     "execution_count": 83,
     "metadata": {},
     "output_type": "execute_result"
    },
    {
     "data": {
      "text/plain": [
       "<matplotlib.axes._subplots.AxesSubplot at 0x15193800848>"
      ]
     },
     "execution_count": 83,
     "metadata": {},
     "output_type": "execute_result"
    },
    {
     "data": {
      "text/plain": [
       "Text(0.5, 0, 'Validation_Count')"
      ]
     },
     "execution_count": 83,
     "metadata": {},
     "output_type": "execute_result"
    },
    {
     "data": {
      "text/plain": [
       "<matplotlib.axes._subplots.AxesSubplot at 0x151d7604c08>"
      ]
     },
     "execution_count": 83,
     "metadata": {},
     "output_type": "execute_result"
    },
    {
     "data": {
      "text/plain": [
       "<matplotlib.axes._subplots.AxesSubplot at 0x151d7604c08>"
      ]
     },
     "execution_count": 83,
     "metadata": {},
     "output_type": "execute_result"
    },
    {
     "data": {
      "text/plain": [
       "Text(0.5, 0, 'Test_Count')"
      ]
     },
     "execution_count": 83,
     "metadata": {},
     "output_type": "execute_result"
    },
    {
     "data": {
      "image/png": "[encoded data removed]",
      "text/plain": [
       "<Figure size 1008x360 with 3 Axes>"
      ]
     },
     "metadata": {
      "needs_background": "light"
     },
     "output_type": "display_data"
    }
   ],
   "source": [
    "plt.figure(figsize=(14,5))\n",
    "plt.subplot(1,3,1)\n",
    "sns.countplot(y_train)\n",
    "plt.xlabel('Train_Count')\n",
    "\n",
    "plt.subplot(1,3,2)\n",
    "sns.countplot(y_val)\n",
    "plt.xlabel('Validation_Count')\n",
    "\n",
    "plt.subplot(1,3,3)\n",
    "sns.countplot(y_test)\n",
    "plt.xlabel('Test_Count')"
   ]
  },
  {
   "cell_type": "markdown",
   "metadata": {},
   "source": [
    "There is equal amount of records in all the categories"
   ]
  },
  {
   "cell_type": "markdown",
   "metadata": {},
   "source": [
    "#### A simple neural network will be created using numpy and batch normalization also will be implemented"
   ]
  },
  {
   "cell_type": "markdown",
   "metadata": {},
   "source": [
    "#### 1. Build Fully connected layer(linear layer)"
   ]
  },
  {
   "cell_type": "code",
   "execution_count": 28,
   "metadata": {},
   "outputs": [],
   "source": [
    "from IPython.core.interactiveshell import InteractiveShell\n",
    "InteractiveShell.ast_node_interactivity = \"all\""
   ]
  },
  {
   "cell_type": "code",
   "execution_count": 29,
   "metadata": {},
   "outputs": [],
   "source": [
    "import numpy as np \n",
    "\n",
    "class Linear():\n",
    "    def __init__(self, in_size, out_size):\n",
    "        self.W = np.random.randn(in_size, out_size) * np.sqrt(2/in_size)\n",
    "        self.b = np.zeros((1, out_size))\n",
    "        self.gamma = np.ones((1, out_size))\n",
    "        self.beta = np.zeros((1, out_size))\n",
    "        self.params = [self.W, self.b, self.gamma, self.beta]\n",
    "        self.gradW = None\n",
    "        self.gradB = None\n",
    "        self.gradgamma = None\n",
    "        self.gradbeta = None\n",
    "        self.gradInput = None    \n",
    "        self.runninng_mean = 0\n",
    "        self.running_var = 0\n",
    "\n",
    "    def forward(self, X, mode, momentum):\n",
    "        self.X = X\n",
    "        self.Z = np.dot(X, self.W) + self.b \n",
    "        \n",
    "        #Take running mean of the train which will be used during the testing\n",
    "        if mode == 'train':\n",
    "        \n",
    "            #perform batch normalization in the forward pass\n",
    "            self.mean = self.Z.mean(axis=0, keepdims = True)\n",
    "            self.var = self.Z.var(axis=0, keepdims = True)  \n",
    "        \n",
    "            self.std = np.sqrt(self.var + 1e-7)        \n",
    "                        \n",
    "            self.X_centered = self.Z - self.mean       \n",
    "            self.X_norm = self.X_centered / self.std         \n",
    "            self.output =  (self.gamma * self.X_norm) + self.beta  \n",
    "            \n",
    "            self.running_mean = momentum * self.runninng_mean + (1 - momentum) * self.mean\n",
    "            self.running_var = momentum * self.running_var + (1 - momentum) * self.var  \n",
    "            \n",
    "        else:\n",
    "            self.X_norm = (self.Z - self.running_mean) / np.sqrt(self.running_var + 1e-7)\n",
    "            self.output =  (self.gamma * self.X_norm) + self.beta\n",
    "        \n",
    "        return self.output\n",
    "\n",
    "    def backward(self, nextgrad):\n",
    "        N = nextgrad.shape[0]\n",
    "        \n",
    "        #backprop of batch normalization\n",
    "        self.gradgamma = (nextgrad * self.X_norm).sum(axis=0)\n",
    "        self.gradbeta = np.sum(nextgrad,axis=0)\n",
    "        \n",
    "        dx_norm = nextgrad * self.gamma\n",
    "        dx_centered = dx_norm / self.std\n",
    "        \n",
    "        dmean = -(dx_centered.sum(axis=0) + 2/N * self.X_centered.sum(axis=0))\n",
    "        dstd = (dx_norm * self.X_centered * -self.std**(-2)).sum(axis=0)\n",
    "        dvar = dstd / 2 / self.std\n",
    "        \n",
    "        nextgrad = dx_centered + (dmean + dvar * 2 * self.X_centered) / N\n",
    "        \n",
    "        self.gradW = np.dot(self.X.T, nextgrad)\n",
    "        self.gradB = np.sum(nextgrad, axis=0)\n",
    "        self.gradInput = np.dot(nextgrad, self.W.T)\n",
    "        return self.gradInput, [self.gradW, self.gradB, self.gradgamma, self.gradbeta]"
   ]
  },
  {
   "cell_type": "markdown",
   "metadata": {},
   "source": [
    "#### 2. Build Rectified Linear Activation Layer (ReLU)"
   ]
  },
  {
   "cell_type": "code",
   "execution_count": 30,
   "metadata": {},
   "outputs": [],
   "source": [
    "class ReLU():\n",
    "    def __init__(self):\n",
    "        self.params = []\n",
    "        self.gradInput = None\n",
    "\n",
    "    def forward(self, X, mode, momentum):        \n",
    "        self.output = np.maximum(X, 0)\n",
    "        return self.output\n",
    "\n",
    "    def backward(self, nextgrad):\n",
    "        self.gradInput = nextgrad.copy()\n",
    "        self.gradInput[self.output <=0] = 0\n",
    "        return self.gradInput, []"
   ]
  },
  {
   "cell_type": "markdown",
   "metadata": {},
   "source": [
    "#### 3. Define the softmax function"
   ]
  },
  {
   "cell_type": "code",
   "execution_count": 31,
   "metadata": {},
   "outputs": [],
   "source": [
    "def softmax(x):\n",
    "    exp_x = np.exp(x - np.max(x, axis=1, keepdims=True))\n",
    "    return exp_x / np.sum(exp_x, axis=1, keepdims=True)"
   ]
  },
  {
   "cell_type": "markdown",
   "metadata": {},
   "source": [
    "#### 4. Define the Cross Entropy Loss"
   ]
  },
  {
   "cell_type": "code",
   "execution_count": 32,
   "metadata": {},
   "outputs": [],
   "source": [
    "class CrossEntropy:\n",
    "    def forward(self, X, y):\n",
    "        self.m = y.shape[0]\n",
    "        self.p = softmax(X)\n",
    "        cross_entropy = -np.log(self.p[range(self.m), y]+1e-16)\n",
    "        loss = np.sum(cross_entropy) / self.m\n",
    "        return loss\n",
    "    \n",
    "    def backward(self, X, y):\n",
    "        y_idx = y.argmax()        \n",
    "        grad = softmax(X)\n",
    "        grad[range(self.m), y] -= 1\n",
    "        grad /= self.m\n",
    "        return grad"
   ]
  },
  {
   "cell_type": "code",
   "execution_count": 34,
   "metadata": {},
   "outputs": [
    {
     "name": "stdout",
     "output_type": "stream",
     "text": [
      "\n",
      "The shape of training input features after reshape: (42000, 1024)\n",
      "The shape of testing input features after reshape: (18000, 1024)\n",
      "The shape of validation input features after reshape: (60000, 1024)\n"
     ]
    },
    {
     "data": {
      "text/plain": [
       "(42000,)"
      ]
     },
     "execution_count": 34,
     "metadata": {},
     "output_type": "execute_result"
    },
    {
     "data": {
      "text/plain": [
       "(18000,)"
      ]
     },
     "execution_count": 34,
     "metadata": {},
     "output_type": "execute_result"
    },
    {
     "data": {
      "text/plain": [
       "(60000,)"
      ]
     },
     "execution_count": 34,
     "metadata": {},
     "output_type": "execute_result"
    }
   ],
   "source": [
    "#Flatten train, test and validation datasets\n",
    "X_train = X_train.reshape(X_train.shape[0], -1)\n",
    "print('\\nThe shape of training input features after reshape:', X_train.shape)\n",
    "\n",
    "X_test = X_test.reshape(X_test.shape[0], -1)\n",
    "print('The shape of testing input features after reshape:', X_test.shape)\n",
    "\n",
    "X_val = X_val.reshape(X_val.shape[0], -1)\n",
    "print('The shape of validation input features after reshape:', X_val.shape)\n",
    "\n",
    "X_train = X_train / 255.0\n",
    "X_test = X_test / 255.0\n",
    "X_val = X_val / 255.0\n",
    "\n",
    "y_train.shape\n",
    "y_test.shape\n",
    "y_val.shape"
   ]
  },
  {
   "cell_type": "markdown",
   "metadata": {},
   "source": [
    "#### Here, we define the container NN class that enables the forward prop and backward propagation of the entire network. Note, how this class enables us to add layers of different types and also correctly pass gradients using the chain rule."
   ]
  },
  {
   "cell_type": "code",
   "execution_count": 35,
   "metadata": {},
   "outputs": [],
   "source": [
    "class NN():\n",
    "    def __init__(self,mode,momentum,lossfunc=CrossEntropy()):\n",
    "        self.params = []\n",
    "        self.layers = []\n",
    "        self.loss_func = lossfunc\n",
    "        self.grads = []\n",
    "        self.mode = mode\n",
    "        self.momentum = momentum \n",
    "        print(self.mode, self.momentum)\n",
    "        \n",
    "    def add_layer(self, layer):\n",
    "        self.layers.append(layer)\n",
    "        self.params.append(layer.params)\n",
    "\n",
    "    def forward(self, X, mode, momentum):        \n",
    "        for layer in self.layers:\n",
    "            X = layer.forward(X, mode, momentum)          \n",
    "        return X\n",
    "    \n",
    "    def backward(self, nextgrad):\n",
    "        self.clear_grad_param()\n",
    "        for layer in reversed(self.layers):\n",
    "            nextgrad, grad = layer.backward(nextgrad)\n",
    "            self.grads.append(grad)\n",
    "        return self.grads\n",
    "    \n",
    "    def train_step(self, X, y):\n",
    "        out = self.forward(X, self.mode, self.momentum)\n",
    "        loss = self.loss_func.forward(out,y)\n",
    "        nextgrad = self.loss_func.backward(out,y)\n",
    "        grads = self.backward(nextgrad)\n",
    "        return loss, grads\n",
    "    \n",
    "    def predict(self, X, mode, momentum):\n",
    "        X = self.forward(X, mode, momentum)\n",
    "        p = softmax(X)\n",
    "        return np.argmax(p, axis=1)\n",
    "    \n",
    "    def predict_scores(self, X, mode, momentum):\n",
    "        X = self.forward(X, mode, momentum)\n",
    "        p = softmax(X)\n",
    "        return p\n",
    "    \n",
    "    def clear_grad_param(self):\n",
    "        self.grads = []"
   ]
  },
  {
   "cell_type": "markdown",
   "metadata": {},
   "source": [
    "#### Defining the update function (SGD with momentum)"
   ]
  },
  {
   "cell_type": "code",
   "execution_count": 36,
   "metadata": {},
   "outputs": [],
   "source": [
    "def update_params(velocity, params, grads, beta1=0.9,learning_rate=0.01):\n",
    "    \n",
    "    for v, p, g, in zip(velocity, params, reversed(grads)):\n",
    "        \n",
    "        for i in range(len(g)):\n",
    "            v[i] = beta1 * v[i] - learning_rate * g[i]\n",
    "            p[i] += v[i]"
   ]
  },
  {
   "cell_type": "markdown",
   "metadata": {},
   "source": [
    "#### Defining a function which gives us the minibatches (both the datapoint and the corresponding label)"
   ]
  },
  {
   "cell_type": "code",
   "execution_count": 37,
   "metadata": {},
   "outputs": [],
   "source": [
    "# get minibatches\n",
    "def minibatch(X, y, minibatch_size):\n",
    "    n = X.shape[0]\n",
    "    minibatches = []\n",
    "    permutation = np.random.permutation(X.shape[0])\n",
    "    X = X[permutation]\n",
    "    y = y[permutation]\n",
    "    \n",
    "    for i in range(0, n , minibatch_size):\n",
    "        X_batch = X[i:i + minibatch_size, :]\n",
    "        y_batch = y[i:i + minibatch_size, ]\n",
    "        minibatches.append((X_batch, y_batch))\n",
    "        \n",
    "    return minibatches"
   ]
  },
  {
   "cell_type": "markdown",
   "metadata": {},
   "source": [
    "#### The traning loop"
   ]
  },
  {
   "cell_type": "code",
   "execution_count": 51,
   "metadata": {},
   "outputs": [],
   "source": [
    "def train(net, X_train, y_train, minibatch_size, epoch, learning_rate, beta1=0.9, X_val=None, y_val=None):\n",
    "    \n",
    "    val_loss_epoch = []\n",
    "    minibatches = minibatch(X_train, y_train, minibatch_size)\n",
    "    minibatches_val = minibatch(X_val, y_val, minibatch_size)       \n",
    "        \n",
    "    \n",
    "                     \n",
    "    for i in range(epoch):\n",
    "        loss_batch = []\n",
    "        val_loss_batch = []\n",
    "        velocity = []    \n",
    "    \n",
    "        for param_layer in net.params:\n",
    "             p = [np.zeros_like(param) for param in list(param_layer)]         \n",
    "             velocity.append(p)\n",
    "                    \n",
    "        # iterate over mini batches\n",
    "        \n",
    "        for X_mini, y_mini in minibatches:\n",
    "            loss, grads = net.train_step(X_mini, y_mini)\n",
    "            loss_batch.append(loss)\n",
    "            m=X_mini.shape[0]            \n",
    "            update_params(velocity,net.params, grads, beta1,learning_rate=learning_rate )\n",
    "\n",
    "        for X_mini_val, y_mini_val in minibatches_val:\n",
    "            val_loss, _ = net.train_step(X_mini, y_mini)\n",
    "            val_loss_batch.append(val_loss)\n",
    "        \n",
    "        # accuracy of model at end of epoch after all mini batch updates\n",
    "        m_train = X_train.shape[0]\n",
    "        m_val = X_val.shape[0]\n",
    "        y_train_pred = np.array([], dtype=\"int64\")\n",
    "        y_val_pred = np.array([], dtype=\"int64\")\n",
    "        y_train1 = []\n",
    "        y_vall = []\n",
    "        for i in range(0, m_train, minibatch_size):\n",
    "            X_tr = X_train[i:i + minibatch_size, : ]\n",
    "            y_tr = y_train[i:i + minibatch_size,]\n",
    "            y_train1 = np.append(y_train1, y_tr)\n",
    "            y_train_pred = np.append(y_train_pred, net.predict(X_tr, mode='test', momentum=0.9))\n",
    "\n",
    "        for i in range(0, m_val, minibatch_size):\n",
    "            X_va = X_val[i:i + minibatch_size, : ]\n",
    "            y_va = y_val[i:i + minibatch_size,]\n",
    "            y_vall = np.append(y_vall, y_va)\n",
    "            y_val_pred = np.append(y_val_pred, net.predict(X_va, mode='test', momentum=0.9))\n",
    "            \n",
    "        train_acc = check_accuracy(y_train1, y_train_pred)\n",
    "        val_acc = check_accuracy(y_vall, y_val_pred)\n",
    "\n",
    "        mean_train_loss = sum(loss_batch) / float(len(loss_batch))\n",
    "        mean_val_loss = sum(val_loss_batch) / float(len(val_loss_batch))\n",
    "        \n",
    "        val_loss_epoch.append(mean_val_loss)\n",
    "        print(\"Loss = {0} | Training Accuracy = {1} | Val Loss = {2} | Val Accuracy = {3}\".format(mean_train_loss, train_acc, mean_val_loss, val_acc))\n",
    "    return net"
   ]
  },
  {
   "cell_type": "markdown",
   "metadata": {},
   "source": [
    "#### Checking the accuracy of the model"
   ]
  },
  {
   "cell_type": "code",
   "execution_count": 52,
   "metadata": {},
   "outputs": [],
   "source": [
    "def check_accuracy(y_true, y_pred):\n",
    "    return np.mean(y_pred == y_true)"
   ]
  },
  {
   "cell_type": "markdown",
   "metadata": {},
   "source": [
    "### Invoking all that we have created until now"
   ]
  },
  {
   "cell_type": "code",
   "execution_count": 53,
   "metadata": {},
   "outputs": [
    {
     "name": "stdout",
     "output_type": "stream",
     "text": [
      "train 0.9\n",
      "Loss = 2.3503189958931388 | Training Accuracy = 0.20626190476190476 | Val Loss = 1.991334709048611 | Val Accuracy = 0.2058\n",
      "Loss = 1.8491532617349087 | Training Accuracy = 0.36642857142857144 | Val Loss = 1.667592576041684 | Val Accuracy = 0.36606666666666665\n",
      "Loss = 1.584047798612041 | Training Accuracy = 0.4714285714285714 | Val Loss = 1.4703176222824335 | Val Accuracy = 0.4703833333333333\n",
      "Loss = 1.4258263233050232 | Training Accuracy = 0.5573571428571429 | Val Loss = 1.3465263471271847 | Val Accuracy = 0.556\n",
      "Loss = 1.3172784312602783 | Training Accuracy = 0.598547619047619 | Val Loss = 1.2540240499757647 | Val Accuracy = 0.5956\n",
      "Loss = 1.2338800263093024 | Training Accuracy = 0.6205714285714286 | Val Loss = 1.183324428895783 | Val Accuracy = 0.6182833333333333\n",
      "Loss = 1.1648316095178861 | Training Accuracy = 0.6415714285714286 | Val Loss = 1.1242887649313555 | Val Accuracy = 0.6387\n",
      "Loss = 1.1062258553209459 | Training Accuracy = 0.6557142857142857 | Val Loss = 1.0782831031828948 | Val Accuracy = 0.6525166666666666\n",
      "Loss = 1.0565027451870987 | Training Accuracy = 0.6702619047619047 | Val Loss = 1.0385176030038632 | Val Accuracy = 0.66695\n",
      "Loss = 1.0137665240288052 | Training Accuracy = 0.6813333333333333 | Val Loss = 1.0111238380758132 | Val Accuracy = 0.67775\n",
      "Loss = 0.9764944931402315 | Training Accuracy = 0.6907142857142857 | Val Loss = 0.9819954296169916 | Val Accuracy = 0.6864166666666667\n",
      "Loss = 0.9435618580045034 | Training Accuracy = 0.6980238095238095 | Val Loss = 0.9572965094641527 | Val Accuracy = 0.6932\n",
      "Loss = 0.9139916379025288 | Training Accuracy = 0.7039285714285715 | Val Loss = 0.9327588601500765 | Val Accuracy = 0.6982833333333334\n",
      "Loss = 0.8875283625587365 | Training Accuracy = 0.7084761904761905 | Val Loss = 0.9097948616086439 | Val Accuracy = 0.70325\n",
      "Loss = 0.8635523017875574 | Training Accuracy = 0.7176428571428571 | Val Loss = 0.8884154167526235 | Val Accuracy = 0.7114333333333334\n",
      "Loss = 0.8416091719948259 | Training Accuracy = 0.7222142857142857 | Val Loss = 0.8673135501095725 | Val Accuracy = 0.71605\n",
      "Loss = 0.821184385906579 | Training Accuracy = 0.7340238095238095 | Val Loss = 0.849581992973725 | Val Accuracy = 0.7278\n",
      "Loss = 0.8023779358005927 | Training Accuracy = 0.7340476190476191 | Val Loss = 0.8333610278365878 | Val Accuracy = 0.7278666666666667\n",
      "Loss = 0.7850335106449048 | Training Accuracy = 0.7372857142857143 | Val Loss = 0.8178982998324724 | Val Accuracy = 0.7306\n",
      "Loss = 0.7686975225497544 | Training Accuracy = 0.7342142857142857 | Val Loss = 0.8043962733185613 | Val Accuracy = 0.7276833333333333\n",
      "Loss = 0.7537675235373646 | Training Accuracy = 0.7392380952380952 | Val Loss = 0.791682109637605 | Val Accuracy = 0.7323666666666667\n",
      "Loss = 0.7394836547552165 | Training Accuracy = 0.7418571428571429 | Val Loss = 0.7794960145057266 | Val Accuracy = 0.7346\n",
      "Loss = 0.7264781577336545 | Training Accuracy = 0.7398809523809524 | Val Loss = 0.7709403587428503 | Val Accuracy = 0.7326166666666667\n",
      "Loss = 0.7141758408491495 | Training Accuracy = 0.7418809523809524 | Val Loss = 0.7639116951621061 | Val Accuracy = 0.73505\n",
      "Loss = 0.702257544592828 | Training Accuracy = 0.7436190476190476 | Val Loss = 0.7548333723970603 | Val Accuracy = 0.7371666666666666\n",
      "Loss = 0.691145715130445 | Training Accuracy = 0.744452380952381 | Val Loss = 0.7460678226876781 | Val Accuracy = 0.73795\n",
      "Loss = 0.680422854406817 | Training Accuracy = 0.7465238095238095 | Val Loss = 0.7393890772492067 | Val Accuracy = 0.7390666666666666\n",
      "Loss = 0.6703016318510594 | Training Accuracy = 0.7449523809523809 | Val Loss = 0.7334192816176778 | Val Accuracy = 0.7379833333333333\n",
      "Loss = 0.6608148982226437 | Training Accuracy = 0.7492619047619048 | Val Loss = 0.7273660183305771 | Val Accuracy = 0.7421\n",
      "Loss = 0.6516740817504247 | Training Accuracy = 0.7500714285714286 | Val Loss = 0.7242892977064338 | Val Accuracy = 0.7429833333333333\n"
     ]
    }
   ],
   "source": [
    "from random import shuffle\n",
    "\n",
    "## input size\n",
    "input_dim = X_train.shape[1]\n",
    "\n",
    "## hyperparameters\n",
    "iterations = 10\n",
    "learning_rate = 0.001\n",
    "hidden_nodes = 100\n",
    "output_nodes = 10\n",
    "\n",
    "## define neural net\n",
    "nn = NN(mode='train', momentum=0.9)\n",
    "nn.add_layer(Linear(input_dim, hidden_nodes))\n",
    "nn.add_layer(ReLU())\n",
    "# nn.add_layer(Linear(hidden_nodes, hidden_nodes))\n",
    "# nn.add_layer(ReLU())\n",
    "nn.add_layer(Linear(hidden_nodes, output_nodes))\n",
    "\n",
    "nn = train(nn, X_train , y_train, minibatch_size=200, epoch=30, \\\n",
    "           learning_rate=learning_rate, X_val=X_val, y_val=y_val)"
   ]
  },
  {
   "cell_type": "code",
   "execution_count": 54,
   "metadata": {},
   "outputs": [],
   "source": [
    "predict_train = nn.predict(X_train, mode='test', momentum=0.9)\n",
    "predict_val = nn.predict(X_val, mode='test', momentum=0.9)\n",
    "predict_test = nn.predict(X_test, mode='test', momentum=0.9)"
   ]
  },
  {
   "cell_type": "code",
   "execution_count": 55,
   "metadata": {},
   "outputs": [],
   "source": [
    "accuracy_df = pd.DataFrame([], columns = [['train_score', 'validation_score', 'test_F1_score']])"
   ]
  },
  {
   "cell_type": "code",
   "execution_count": 56,
   "metadata": {},
   "outputs": [],
   "source": [
    "accuracy_df.loc['NN-Numpy', 'train_score'] = f1_score(y_train, predict_train, average='weighted')\n",
    "accuracy_df.loc['NN-Numpy', 'validation_score'] = f1_score(y_val, predict_val, average='weighted')\n",
    "accuracy_df.loc['NN-Numpy', 'test_F1_score'] = f1_score(y_test, predict_test, average='weighted')"
   ]
  },
  {
   "cell_type": "code",
   "execution_count": 57,
   "metadata": {},
   "outputs": [
    {
     "data": {
      "text/html": [
       "<div>\n",
       "<style scoped>\n",
       "    .dataframe tbody tr th:only-of-type {\n",
       "        vertical-align: middle;\n",
       "    }\n",
       "\n",
       "    .dataframe tbody tr th {\n",
       "        vertical-align: top;\n",
       "    }\n",
       "\n",
       "    .dataframe thead tr th {\n",
       "        text-align: left;\n",
       "    }\n",
       "</style>\n",
       "<table border=\"1\" class=\"dataframe\">\n",
       "  <thead>\n",
       "    <tr>\n",
       "      <th></th>\n",
       "      <th>train_score</th>\n",
       "      <th>validation_score</th>\n",
       "      <th>test_F1_score</th>\n",
       "    </tr>\n",
       "  </thead>\n",
       "  <tbody>\n",
       "    <tr>\n",
       "      <th>NN-Numpy</th>\n",
       "      <td>0.754059</td>\n",
       "      <td>0.747303</td>\n",
       "      <td>0.731551</td>\n",
       "    </tr>\n",
       "  </tbody>\n",
       "</table>\n",
       "</div>"
      ],
      "text/plain": [
       "         train_score validation_score test_F1_score\n",
       "NN-Numpy    0.754059         0.747303      0.731551"
      ]
     },
     "execution_count": 57,
     "metadata": {},
     "output_type": "execute_result"
    }
   ],
   "source": [
    "accuracy_df"
   ]
  },
  {
   "cell_type": "markdown",
   "metadata": {},
   "source": [
    "Inference:           \n",
    "1) 'He normalization' is used to initialize the weights.                         \n",
    "2) Gradient moment is used as optimization technique to increase the learning rate.               \n",
    "3) Batch normalization has been used to prevent the internal covariance shift and this it enhances the learning process.    \n",
    "4) Because of the introduction of batch normalization, a small noise has been introduced into the system and thus it gave a small regularization effect and thus it prevented the overfitting problem.      \n",
    "5) For 30 epochs , an accuracy level of 73% can be noticed."
   ]
  },
  {
   "cell_type": "code",
   "execution_count": 84,
   "metadata": {},
   "outputs": [],
   "source": [
    "#convert y to to_categorical\n",
    "y_train = to_categorical(y_train)\n",
    "y_test = to_categorical(y_test)\n",
    "y_val = to_categorical(y_val)"
   ]
  },
  {
   "cell_type": "markdown",
   "metadata": {},
   "source": [
    "#### Model1 => A simple model without any alterations"
   ]
  },
  {
   "cell_type": "code",
   "execution_count": 85,
   "metadata": {},
   "outputs": [],
   "source": [
    "model = Sequential()"
   ]
  },
  {
   "cell_type": "code",
   "execution_count": 86,
   "metadata": {},
   "outputs": [],
   "source": [
    "model.add(Dense(50, input_shape = (1024, )))\n",
    "model.add(Activation('sigmoid'))\n",
    "model.add(Dense(50))\n",
    "model.add(Activation('sigmoid'))\n",
    "model.add(Dense(50))\n",
    "model.add(Activation('sigmoid'))\n",
    "model.add(Dense(50))\n",
    "model.add(Activation('sigmoid'))\n",
    "model.add(Dense(10))\n",
    "model.add(Activation('softmax'))"
   ]
  },
  {
   "cell_type": "code",
   "execution_count": 87,
   "metadata": {},
   "outputs": [],
   "source": [
    "sgd = optimizers.SGD(lr = 0.01)\n",
    "model.compile(optimizer = sgd, loss = 'categorical_crossentropy', metrics = ['accuracy'])"
   ]
  },
  {
   "cell_type": "code",
   "execution_count": 88,
   "metadata": {},
   "outputs": [
    {
     "data": {
      "text/plain": [
       "<keras.callbacks.callbacks.History at 0x15193a2bb08>"
      ]
     },
     "execution_count": 88,
     "metadata": {},
     "output_type": "execute_result"
    }
   ],
   "source": [
    "model.fit(X_train_flat, y_train, validation_data = (X_val_flat, y_val), batch_size = 256, epochs = 30, verbose = 0)\n",
    "\n",
    "predict_y = model.predict(X_test_flat)\n",
    "predict_value = predict_y.argmax(axis=1)\n",
    "actual_value = y_test.argmax(axis=1)\n",
    "\n",
    "accuracy_df.loc['simple_sigmoid', 'train_score'] = model.evaluate(X_train_flat, y_train, verbose=0)[1]\n",
    "accuracy_df.loc['simple_sigmoid', 'validation_score'] = model.evaluate(X_val_flat, y_val, verbose=0)[1]\n",
    "accuracy_df.loc['simple_sigmoid', 'test_F1_score'] = f1_score(actual_value, predict_value, average='weighted')"
   ]
  },
  {
   "cell_type": "code",
   "execution_count": 89,
   "metadata": {},
   "outputs": [
    {
     "data": {
      "text/plain": [
       "train_score         0.0999524\n",
       "validation_score       0.1001\n",
       "test_F1_score       0.0185584\n",
       "Name: simple_sigmoid, dtype: object"
      ]
     },
     "execution_count": 89,
     "metadata": {},
     "output_type": "execute_result"
    }
   ],
   "source": [
    "accuracy_df.loc['simple_sigmoid']"
   ]
  },
  {
   "cell_type": "markdown",
   "metadata": {},
   "source": [
    "Inference: Using a sigmoid function with a simple model performs poorly on the dataset"
   ]
  },
  {
   "cell_type": "markdown",
   "metadata": {},
   "source": [
    "#### Model2 => Enhancement done to weight intiliaztion technique"
   ]
  },
  {
   "cell_type": "code",
   "execution_count": 90,
   "metadata": {},
   "outputs": [],
   "source": [
    "def mlp_model():\n",
    "    model = Sequential()\n",
    "    \n",
    "    model.add(Dense(50, input_shape = (1024, ), kernel_initializer='he_normal'))     # use he_normal initializer\n",
    "    model.add(Activation('sigmoid'))    \n",
    "    model.add(Dense(50, kernel_initializer='he_normal'))                            # use he_normal initializer\n",
    "    model.add(Activation('sigmoid'))    \n",
    "    model.add(Dense(50, kernel_initializer='he_normal'))                            # use he_normal initializer\n",
    "    model.add(Activation('sigmoid'))    \n",
    "    model.add(Dense(50, kernel_initializer='he_normal'))                            # use he_normal initializer\n",
    "    model.add(Activation('sigmoid'))    \n",
    "    model.add(Dense(10, kernel_initializer='he_normal'))                            # use he_normal initializer\n",
    "    model.add(Activation('softmax'))\n",
    "    \n",
    "    sgd = optimizers.SGD(lr = 0.001)\n",
    "    model.compile(optimizer = sgd, loss = 'categorical_crossentropy', metrics = ['accuracy'])\n",
    "    \n",
    "    return model"
   ]
  },
  {
   "cell_type": "code",
   "execution_count": 91,
   "metadata": {},
   "outputs": [
    {
     "data": {
      "text/plain": [
       "<keras.callbacks.callbacks.History at 0x151940f0b08>"
      ]
     },
     "execution_count": 91,
     "metadata": {},
     "output_type": "execute_result"
    }
   ],
   "source": [
    "model = mlp_model()\n",
    "\n",
    "model.fit(X_train_flat, y_train, validation_data = (X_val_flat, y_val), batch_size = 256, epochs = 30, verbose = 0)\n",
    "\n",
    "predict_y = model.predict(X_test_flat)\n",
    "predict_value = predict_y.argmax(axis=1)\n",
    "actual_value = y_test.argmax(axis=1)\n",
    "\n",
    "accuracy_df.loc['sigmoid_weight_imp', 'train_score'] = model.evaluate(X_train_flat, y_train, verbose=0)[1]\n",
    "accuracy_df.loc['sigmoid_weight_imp', 'validation_score'] = model.evaluate(X_val_flat, y_val, verbose=0)[1]\n",
    "accuracy_df.loc['sigmoid_weight_imp', 'test_F1_score'] = f1_score(actual_value, predict_value, average='weighted')"
   ]
  },
  {
   "cell_type": "code",
   "execution_count": 92,
   "metadata": {},
   "outputs": [
    {
     "data": {
      "text/html": [
       "<div>\n",
       "<style scoped>\n",
       "    .dataframe tbody tr th:only-of-type {\n",
       "        vertical-align: middle;\n",
       "    }\n",
       "\n",
       "    .dataframe tbody tr th {\n",
       "        vertical-align: top;\n",
       "    }\n",
       "\n",
       "    .dataframe thead tr th {\n",
       "        text-align: left;\n",
       "    }\n",
       "</style>\n",
       "<table border=\"1\" class=\"dataframe\">\n",
       "  <thead>\n",
       "    <tr>\n",
       "      <th></th>\n",
       "      <th>train_score</th>\n",
       "      <th>validation_score</th>\n",
       "      <th>test_F1_score</th>\n",
       "    </tr>\n",
       "  </thead>\n",
       "  <tbody>\n",
       "    <tr>\n",
       "      <th>NN-Numpy</th>\n",
       "      <td>0.754059</td>\n",
       "      <td>0.747303</td>\n",
       "      <td>0.731551</td>\n",
       "    </tr>\n",
       "    <tr>\n",
       "      <th>simple_sigmoid</th>\n",
       "      <td>0.0999524</td>\n",
       "      <td>0.1001</td>\n",
       "      <td>0.0185584</td>\n",
       "    </tr>\n",
       "    <tr>\n",
       "      <th>sigmoid_weight_imp</th>\n",
       "      <td>0.113357</td>\n",
       "      <td>0.111717</td>\n",
       "      <td>0.0652394</td>\n",
       "    </tr>\n",
       "  </tbody>\n",
       "</table>\n",
       "</div>"
      ],
      "text/plain": [
       "                   train_score validation_score test_F1_score\n",
       "NN-Numpy              0.754059         0.747303      0.731551\n",
       "simple_sigmoid       0.0999524           0.1001     0.0185584\n",
       "sigmoid_weight_imp    0.113357         0.111717     0.0652394"
      ]
     },
     "execution_count": 92,
     "metadata": {},
     "output_type": "execute_result"
    }
   ],
   "source": [
    "accuracy_df"
   ]
  },
  {
   "cell_type": "markdown",
   "metadata": {},
   "source": [
    "Inferenece: The weight initialization has improvised the test score a little but not a big change"
   ]
  },
  {
   "cell_type": "markdown",
   "metadata": {},
   "source": [
    "#### Model3 => using Non linear function ReLU.\n",
    "Since sigmoid and tanh suffer from vanishing gradient problem where there is no learning at higher positive and negative side"
   ]
  },
  {
   "cell_type": "code",
   "execution_count": 93,
   "metadata": {},
   "outputs": [],
   "source": [
    "def mlp_model():\n",
    "    model = Sequential()\n",
    "    \n",
    "    model.add(Dense(200, input_shape = (1024, ), kernel_initializer='he_normal'))\n",
    "    model.add(Activation('relu'))    \n",
    "    model.add(Dense(200, kernel_initializer='he_normal'))\n",
    "    model.add(Activation('relu'))    \n",
    "    model.add(Dense(200, kernel_initializer='he_normal'))\n",
    "    model.add(Activation('relu'))    \n",
    "    model.add(Dense(200, kernel_initializer='he_normal'))\n",
    "    model.add(Activation('relu'))    \n",
    "    model.add(Dense(10))\n",
    "    model.add(Activation('softmax'))\n",
    "    \n",
    "    sgd = optimizers.SGD(lr = 0.001)\n",
    "    model.compile(optimizer = sgd, loss = 'categorical_crossentropy', metrics = ['accuracy'])\n",
    "    \n",
    "    return model"
   ]
  },
  {
   "cell_type": "code",
   "execution_count": 94,
   "metadata": {},
   "outputs": [
    {
     "data": {
      "text/plain": [
       "<keras.callbacks.callbacks.History at 0x151941af048>"
      ]
     },
     "execution_count": 94,
     "metadata": {},
     "output_type": "execute_result"
    }
   ],
   "source": [
    "model = mlp_model()\n",
    "\n",
    "model.fit(X_train_flat, y_train, validation_data = (X_val_flat, y_val), batch_size = 256, epochs = 30, verbose = 0)\n",
    "\n",
    "predict_y = model.predict(X_test_flat)\n",
    "predict_value = predict_y.argmax(axis=1)\n",
    "actual_value = y_test.argmax(axis=1)\n",
    "\n",
    "accuracy_df.loc['simple_ReLU', 'train_score'] = model.evaluate(X_train_flat, y_train, verbose=0)[1]\n",
    "accuracy_df.loc['simple_ReLU', 'validation_score'] = model.evaluate(X_val_flat, y_val, verbose=0)[1]\n",
    "accuracy_df.loc['simple_ReLU', 'test_F1_score'] = f1_score(actual_value, predict_value, average='weighted')"
   ]
  },
  {
   "cell_type": "code",
   "execution_count": 95,
   "metadata": {},
   "outputs": [
    {
     "data": {
      "text/html": [
       "<div>\n",
       "<style scoped>\n",
       "    .dataframe tbody tr th:only-of-type {\n",
       "        vertical-align: middle;\n",
       "    }\n",
       "\n",
       "    .dataframe tbody tr th {\n",
       "        vertical-align: top;\n",
       "    }\n",
       "\n",
       "    .dataframe thead tr th {\n",
       "        text-align: left;\n",
       "    }\n",
       "</style>\n",
       "<table border=\"1\" class=\"dataframe\">\n",
       "  <thead>\n",
       "    <tr>\n",
       "      <th></th>\n",
       "      <th>train_score</th>\n",
       "      <th>validation_score</th>\n",
       "      <th>test_F1_score</th>\n",
       "    </tr>\n",
       "  </thead>\n",
       "  <tbody>\n",
       "    <tr>\n",
       "      <th>NN-Numpy</th>\n",
       "      <td>0.754059</td>\n",
       "      <td>0.747303</td>\n",
       "      <td>0.731551</td>\n",
       "    </tr>\n",
       "    <tr>\n",
       "      <th>simple_sigmoid</th>\n",
       "      <td>0.0999524</td>\n",
       "      <td>0.1001</td>\n",
       "      <td>0.0185584</td>\n",
       "    </tr>\n",
       "    <tr>\n",
       "      <th>sigmoid_weight_imp</th>\n",
       "      <td>0.113357</td>\n",
       "      <td>0.111717</td>\n",
       "      <td>0.0652394</td>\n",
       "    </tr>\n",
       "    <tr>\n",
       "      <th>simple_ReLU</th>\n",
       "      <td>0.102143</td>\n",
       "      <td>0.1002</td>\n",
       "      <td>0.0171008</td>\n",
       "    </tr>\n",
       "  </tbody>\n",
       "</table>\n",
       "</div>"
      ],
      "text/plain": [
       "                   train_score validation_score test_F1_score\n",
       "NN-Numpy              0.754059         0.747303      0.731551\n",
       "simple_sigmoid       0.0999524           0.1001     0.0185584\n",
       "sigmoid_weight_imp    0.113357         0.111717     0.0652394\n",
       "simple_ReLU           0.102143           0.1002     0.0171008"
      ]
     },
     "execution_count": 95,
     "metadata": {},
     "output_type": "execute_result"
    }
   ],
   "source": [
    "accuracy_df"
   ]
  },
  {
   "cell_type": "markdown",
   "metadata": {},
   "source": [
    "Inference: Simple_ReLU also does not improve the performance to a greater extent."
   ]
  },
  {
   "cell_type": "markdown",
   "metadata": {},
   "source": [
    "#### Model4 => using Non linear function ReLU with batch normalization and adam optimizer"
   ]
  },
  {
   "cell_type": "code",
   "execution_count": 96,
   "metadata": {},
   "outputs": [],
   "source": [
    "def mlp_model():\n",
    "    model = Sequential()\n",
    "    \n",
    "    model.add(Dense(200, input_shape = (1024, ), kernel_initializer='he_normal'))\n",
    "    model.add(BatchNormalization())\n",
    "    model.add(Activation('relu'))\n",
    "    model.add(Dense(200, kernel_initializer='he_normal'))\n",
    "    model.add(BatchNormalization())\n",
    "    model.add(Activation('relu')) \n",
    "    model.add(Dense(200, kernel_initializer='he_normal'))\n",
    "    model.add(BatchNormalization())\n",
    "    model.add(Activation('relu'))\n",
    "    model.add(Dense(200, kernel_initializer='he_normal'))\n",
    "    model.add(BatchNormalization())\n",
    "    model.add(Activation('relu'))          \n",
    "    model.add(Dense(10, kernel_initializer='he_normal'))\n",
    "    model.add(Activation('softmax'))\n",
    "    \n",
    "    adam = optimizers.Adam(lr = 0.001)\n",
    "    model.compile(optimizer = adam, loss = 'categorical_crossentropy', metrics = ['accuracy'])\n",
    "    \n",
    "    return model"
   ]
  },
  {
   "cell_type": "code",
   "execution_count": 97,
   "metadata": {},
   "outputs": [
    {
     "data": {
      "text/plain": [
       "<keras.callbacks.callbacks.History at 0x15196674ec8>"
      ]
     },
     "execution_count": 97,
     "metadata": {},
     "output_type": "execute_result"
    }
   ],
   "source": [
    "model = mlp_model()\n",
    "\n",
    "model.fit(X_train_flat, y_train, validation_data = (X_val_flat, y_val), batch_size = 256, epochs = 30, verbose = 0)\n",
    "\n",
    "predict_y = model.predict(X_test_flat)\n",
    "predict_value = predict_y.argmax(axis=1)\n",
    "actual_value = y_test.argmax(axis=1)\n",
    "\n",
    "accuracy_df.loc['ReLU_Adam_norm', 'train_score'] = model.evaluate(X_train_flat, y_train, verbose=0)[1]\n",
    "accuracy_df.loc['ReLU_Adam_norm', 'validation_score'] = model.evaluate(X_val_flat, y_val, verbose=0)[1]\n",
    "accuracy_df.loc['ReLU_Adam_norm', 'test_F1_score'] = f1_score(actual_value, predict_value, average='weighted')"
   ]
  },
  {
   "cell_type": "code",
   "execution_count": 98,
   "metadata": {},
   "outputs": [
    {
     "data": {
      "text/html": [
       "<div>\n",
       "<style scoped>\n",
       "    .dataframe tbody tr th:only-of-type {\n",
       "        vertical-align: middle;\n",
       "    }\n",
       "\n",
       "    .dataframe tbody tr th {\n",
       "        vertical-align: top;\n",
       "    }\n",
       "\n",
       "    .dataframe thead tr th {\n",
       "        text-align: left;\n",
       "    }\n",
       "</style>\n",
       "<table border=\"1\" class=\"dataframe\">\n",
       "  <thead>\n",
       "    <tr>\n",
       "      <th></th>\n",
       "      <th>train_score</th>\n",
       "      <th>validation_score</th>\n",
       "      <th>test_F1_score</th>\n",
       "    </tr>\n",
       "  </thead>\n",
       "  <tbody>\n",
       "    <tr>\n",
       "      <th>NN-Numpy</th>\n",
       "      <td>0.754059</td>\n",
       "      <td>0.747303</td>\n",
       "      <td>0.731551</td>\n",
       "    </tr>\n",
       "    <tr>\n",
       "      <th>simple_sigmoid</th>\n",
       "      <td>0.0999524</td>\n",
       "      <td>0.1001</td>\n",
       "      <td>0.0185584</td>\n",
       "    </tr>\n",
       "    <tr>\n",
       "      <th>sigmoid_weight_imp</th>\n",
       "      <td>0.113357</td>\n",
       "      <td>0.111717</td>\n",
       "      <td>0.0652394</td>\n",
       "    </tr>\n",
       "    <tr>\n",
       "      <th>simple_ReLU</th>\n",
       "      <td>0.102143</td>\n",
       "      <td>0.1002</td>\n",
       "      <td>0.0171008</td>\n",
       "    </tr>\n",
       "    <tr>\n",
       "      <th>ReLU_Adam_norm</th>\n",
       "      <td>0.724976</td>\n",
       "      <td>0.70755</td>\n",
       "      <td>0.681323</td>\n",
       "    </tr>\n",
       "  </tbody>\n",
       "</table>\n",
       "</div>"
      ],
      "text/plain": [
       "                   train_score validation_score test_F1_score\n",
       "NN-Numpy              0.754059         0.747303      0.731551\n",
       "simple_sigmoid       0.0999524           0.1001     0.0185584\n",
       "sigmoid_weight_imp    0.113357         0.111717     0.0652394\n",
       "simple_ReLU           0.102143           0.1002     0.0171008\n",
       "ReLU_Adam_norm        0.724976          0.70755      0.681323"
      ]
     },
     "execution_count": 98,
     "metadata": {},
     "output_type": "execute_result"
    }
   ],
   "source": [
    "accuracy_df"
   ]
  },
  {
   "cell_type": "markdown",
   "metadata": {},
   "source": [
    "Inference:                  \n",
    "1) Batch normalization before each activation layer prevents the data from covariance shift problem and also the statistics\n",
    "   mean=0  and standard deviation=1 are maintained to some level per the normal distribution.             \n",
    "   \n",
    "2) Adam optimizer enhances the learning process by taking bigger steps in the saddle points and also reduces the oscillations \n",
    "   thus convergence towards global minima happens in a better way.          \n",
    "   \n",
    "3) When we compare the training score and test score, it looks like overfitting. We can introduce, droupout regularization to check the impact on the results.             "
   ]
  },
  {
   "cell_type": "code",
   "execution_count": 99,
   "metadata": {},
   "outputs": [],
   "source": [
    "def mlp_model():\n",
    "    model = Sequential()\n",
    "    \n",
    "    model.add(Dense(200, input_shape = (1024, ), kernel_initializer='he_normal'))\n",
    "    model.add(BatchNormalization())\n",
    "    model.add(Activation('relu'))\n",
    "    model.add(Dropout(0.2))\n",
    "    model.add(Dense(200, kernel_initializer='he_normal'))\n",
    "    model.add(BatchNormalization())\n",
    "    model.add(Activation('relu'))    \n",
    "    model.add(Dropout(0.2))\n",
    "    model.add(Dense(200, kernel_initializer='he_normal'))\n",
    "    model.add(BatchNormalization())\n",
    "    model.add(Activation('relu'))\n",
    "    model.add(Dropout(0.2))\n",
    "    model.add(Dense(200, kernel_initializer='he_normal'))\n",
    "    model.add(BatchNormalization())\n",
    "    model.add(Activation('relu'))\n",
    "    model.add(Dropout(0.2))                \n",
    "    model.add(Dense(10, kernel_initializer='he_normal'))\n",
    "    model.add(Activation('softmax'))\n",
    "    \n",
    "    adam = optimizers.Adam(lr = 0.001)\n",
    "    model.compile(optimizer = adam, loss = 'categorical_crossentropy', metrics = ['accuracy'])\n",
    "    \n",
    "    return model"
   ]
  },
  {
   "cell_type": "code",
   "execution_count": 100,
   "metadata": {},
   "outputs": [],
   "source": [
    "model = mlp_model()"
   ]
  },
  {
   "cell_type": "code",
   "execution_count": 101,
   "metadata": {},
   "outputs": [
    {
     "data": {
      "text/plain": [
       "<keras.callbacks.callbacks.History at 0x15199d82588>"
      ]
     },
     "execution_count": 101,
     "metadata": {},
     "output_type": "execute_result"
    }
   ],
   "source": [
    "model.fit(X_train_flat, y_train, validation_data = (X_val_flat, y_val), batch_size = 256, epochs = 30, verbose = 0)\n",
    "\n",
    "predict_y = model.predict(X_test_flat)\n",
    "predict_value = predict_y.argmax(axis=1)\n",
    "actual_value = y_test.argmax(axis=1)\n",
    "\n",
    "accuracy_df.loc['ReLU_Dropout', 'train_score'] = model.evaluate(X_train_flat, y_train, verbose=0)[1]\n",
    "accuracy_df.loc['ReLU_Dropout', 'validation_score'] = model.evaluate(X_val_flat, y_val, verbose=0)[1]\n",
    "accuracy_df.loc['ReLU_Dropout', 'test_F1_score'] = f1_score(actual_value, predict_value, average='weighted')"
   ]
  },
  {
   "cell_type": "code",
   "execution_count": 102,
   "metadata": {},
   "outputs": [
    {
     "data": {
      "text/html": [
       "<div>\n",
       "<style scoped>\n",
       "    .dataframe tbody tr th:only-of-type {\n",
       "        vertical-align: middle;\n",
       "    }\n",
       "\n",
       "    .dataframe tbody tr th {\n",
       "        vertical-align: top;\n",
       "    }\n",
       "\n",
       "    .dataframe thead tr th {\n",
       "        text-align: left;\n",
       "    }\n",
       "</style>\n",
       "<table border=\"1\" class=\"dataframe\">\n",
       "  <thead>\n",
       "    <tr>\n",
       "      <th></th>\n",
       "      <th>train_score</th>\n",
       "      <th>validation_score</th>\n",
       "      <th>test_F1_score</th>\n",
       "    </tr>\n",
       "  </thead>\n",
       "  <tbody>\n",
       "    <tr>\n",
       "      <th>NN-Numpy</th>\n",
       "      <td>0.754059</td>\n",
       "      <td>0.747303</td>\n",
       "      <td>0.731551</td>\n",
       "    </tr>\n",
       "    <tr>\n",
       "      <th>simple_sigmoid</th>\n",
       "      <td>0.0999524</td>\n",
       "      <td>0.1001</td>\n",
       "      <td>0.0185584</td>\n",
       "    </tr>\n",
       "    <tr>\n",
       "      <th>sigmoid_weight_imp</th>\n",
       "      <td>0.113357</td>\n",
       "      <td>0.111717</td>\n",
       "      <td>0.0652394</td>\n",
       "    </tr>\n",
       "    <tr>\n",
       "      <th>simple_ReLU</th>\n",
       "      <td>0.102143</td>\n",
       "      <td>0.1002</td>\n",
       "      <td>0.0171008</td>\n",
       "    </tr>\n",
       "    <tr>\n",
       "      <th>ReLU_Adam_norm</th>\n",
       "      <td>0.724976</td>\n",
       "      <td>0.70755</td>\n",
       "      <td>0.681323</td>\n",
       "    </tr>\n",
       "    <tr>\n",
       "      <th>ReLU_Dropout</th>\n",
       "      <td>0.630714</td>\n",
       "      <td>0.623483</td>\n",
       "      <td>0.629052</td>\n",
       "    </tr>\n",
       "  </tbody>\n",
       "</table>\n",
       "</div>"
      ],
      "text/plain": [
       "                   train_score validation_score test_F1_score\n",
       "NN-Numpy              0.754059         0.747303      0.731551\n",
       "simple_sigmoid       0.0999524           0.1001     0.0185584\n",
       "sigmoid_weight_imp    0.113357         0.111717     0.0652394\n",
       "simple_ReLU           0.102143           0.1002     0.0171008\n",
       "ReLU_Adam_norm        0.724976          0.70755      0.681323\n",
       "ReLU_Dropout          0.630714         0.623483      0.629052"
      ]
     },
     "execution_count": 102,
     "metadata": {},
     "output_type": "execute_result"
    }
   ],
   "source": [
    "accuracy_df"
   ]
  },
  {
   "cell_type": "markdown",
   "metadata": {},
   "source": [
    "Inference:             \n",
    "1) Since dropout has the tendency to randomly turn off the neurons, the learning process is not solely depends on one particular node. \n",
    "\n",
    "2) In case of dropout, the weights are spread across each and every neuron so the all the neurons gain equal importance. \n",
    "Since removing some of the nodes will result in a medium level model and not the complex model. \n",
    "\n",
    "3) So, the dropout regularization greatly assits in preventing the overfitting."
   ]
  },
  {
   "cell_type": "code",
   "execution_count": 103,
   "metadata": {},
   "outputs": [
    {
     "data": {
      "text/plain": [
       "<keras.callbacks.callbacks.History at 0x1519b010648>"
      ]
     },
     "execution_count": 103,
     "metadata": {},
     "output_type": "execute_result"
    }
   ],
   "source": [
    "#increaing the epoch to the ReLU_Dropout\n",
    "\n",
    "model.fit(X_train_flat, y_train, validation_data = (X_val_flat, y_val), batch_size = 256, epochs = 100, verbose = 0)\n",
    "\n",
    "predict_y = model.predict(X_test_flat)\n",
    "predict_value = predict_y.argmax(axis=1)\n",
    "actual_value = y_test.argmax(axis=1)\n",
    "\n",
    "accuracy_df.loc['ReLU_Dropout_epoch100', 'train_score'] = model.evaluate(X_train_flat, y_train, verbose=0)[1]\n",
    "accuracy_df.loc['ReLU_Dropout_epoch100', 'validation_score'] = model.evaluate(X_val_flat, y_val, verbose=0)[1]\n",
    "accuracy_df.loc['ReLU_Dropout_epoch100', 'test_F1_score'] = f1_score(actual_value, predict_value, average='weighted')"
   ]
  },
  {
   "cell_type": "code",
   "execution_count": 105,
   "metadata": {},
   "outputs": [
    {
     "data": {
      "text/html": [
       "<div>\n",
       "<style scoped>\n",
       "    .dataframe tbody tr th:only-of-type {\n",
       "        vertical-align: middle;\n",
       "    }\n",
       "\n",
       "    .dataframe tbody tr th {\n",
       "        vertical-align: top;\n",
       "    }\n",
       "\n",
       "    .dataframe thead tr th {\n",
       "        text-align: left;\n",
       "    }\n",
       "</style>\n",
       "<table border=\"1\" class=\"dataframe\">\n",
       "  <thead>\n",
       "    <tr>\n",
       "      <th></th>\n",
       "      <th>train_score</th>\n",
       "      <th>validation_score</th>\n",
       "      <th>test_F1_score</th>\n",
       "    </tr>\n",
       "  </thead>\n",
       "  <tbody>\n",
       "    <tr>\n",
       "      <th>NN-Numpy</th>\n",
       "      <td>0.754059</td>\n",
       "      <td>0.747303</td>\n",
       "      <td>0.731551</td>\n",
       "    </tr>\n",
       "    <tr>\n",
       "      <th>simple_sigmoid</th>\n",
       "      <td>0.0999524</td>\n",
       "      <td>0.1001</td>\n",
       "      <td>0.0185584</td>\n",
       "    </tr>\n",
       "    <tr>\n",
       "      <th>sigmoid_weight_imp</th>\n",
       "      <td>0.113357</td>\n",
       "      <td>0.111717</td>\n",
       "      <td>0.0652394</td>\n",
       "    </tr>\n",
       "    <tr>\n",
       "      <th>simple_ReLU</th>\n",
       "      <td>0.102143</td>\n",
       "      <td>0.1002</td>\n",
       "      <td>0.0171008</td>\n",
       "    </tr>\n",
       "    <tr>\n",
       "      <th>ReLU_Adam_norm</th>\n",
       "      <td>0.724976</td>\n",
       "      <td>0.70755</td>\n",
       "      <td>0.681323</td>\n",
       "    </tr>\n",
       "    <tr>\n",
       "      <th>ReLU_Dropout</th>\n",
       "      <td>0.630714</td>\n",
       "      <td>0.623483</td>\n",
       "      <td>0.629052</td>\n",
       "    </tr>\n",
       "    <tr>\n",
       "      <th>ReLU_Dropout_epoch100</th>\n",
       "      <td>0.868333</td>\n",
       "      <td>0.849417</td>\n",
       "      <td>0.807098</td>\n",
       "    </tr>\n",
       "  </tbody>\n",
       "</table>\n",
       "</div>"
      ],
      "text/plain": [
       "                      train_score validation_score test_F1_score\n",
       "NN-Numpy                 0.754059         0.747303      0.731551\n",
       "simple_sigmoid          0.0999524           0.1001     0.0185584\n",
       "sigmoid_weight_imp       0.113357         0.111717     0.0652394\n",
       "simple_ReLU              0.102143           0.1002     0.0171008\n",
       "ReLU_Adam_norm           0.724976          0.70755      0.681323\n",
       "ReLU_Dropout             0.630714         0.623483      0.629052\n",
       "ReLU_Dropout_epoch100    0.868333         0.849417      0.807098"
      ]
     },
     "execution_count": 105,
     "metadata": {},
     "output_type": "execute_result"
    }
   ],
   "source": [
    "accuracy_df"
   ]
  },
  {
   "cell_type": "markdown",
   "metadata": {},
   "source": [
    "Inference: As we increase the number of epochs (i.e) number of times the entire training data is trianed, \n",
    "           F1_score of the test dataset has greatly improvised.     \n",
    "           \n",
    "Conclusion:                \n",
    "A Neural network gives better prediction when the below details are included:             \n",
    "1) Using Non-linear activation functions like ReLU.            \n",
    "2) When using ReLU, He_normal weight initialization technique is used. As the ReLU function value is zero when the input value is negative.                  \n",
    "3) Batch Normalization greatly improved the model accuracy by preventing the internal covariance shift.        \n",
    "4) Dropout is a regularization technique to prevent the model from overfitting.         \n",
    "5) To have considerable number of iterations(epoch).\n"
   ]
  },
  {
   "cell_type": "raw",
   "metadata": {},
   "source": []
  }
 ],
 "metadata": {
  "kernelspec": {
   "display_name": "Python 3",
   "language": "python",
   "name": "python3"
  },
  "language_info": {
   "codemirror_mode": {
    "name": "ipython",
    "version": 3
   },
   "file_extension": ".py",
   "mimetype": "text/x-python",
   "name": "python",
   "nbconvert_exporter": "python",
   "pygments_lexer": "ipython3",
   "version": "3.7.6"
  }
 },
 "nbformat": 4,
 "nbformat_minor": 4
}
